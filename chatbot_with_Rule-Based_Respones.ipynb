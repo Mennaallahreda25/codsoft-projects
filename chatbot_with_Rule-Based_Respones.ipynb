{
 "cells": [
  {
   "cell_type": "markdown",
   "id": "ad4919c1",
   "metadata": {},
   "source": [
    "# chatbot with Rule-Based Respones project"
   ]
  },
  {
   "cell_type": "markdown",
   "id": "d38990ee",
   "metadata": {},
   "source": [
    "this a chatbot to help students of computer science to study data structure. so he will ask me question and i will aswer. let's assume he will aswer me questions from specific book or page and to chatbot is programmed to help him in his subject and programmed by book informations and questions to answer students who study from it, so i will give him aswer and explain it.\n",
    "\n",
    "i used here nltk library to make my chatbot with Rule-Based Respones."
   ]
  },
  {
   "cell_type": "code",
   "execution_count": null,
   "id": "b33c5aa6",
   "metadata": {},
   "outputs": [],
   "source": [
    "from nltk.chat.util import Chat, reflections"
   ]
  },
  {
   "cell_type": "code",
   "execution_count": 16,
   "id": "a3a1b9ed",
   "metadata": {
    "ExecuteTime": {
     "end_time": "2023-10-28T01:23:51.015577Z",
     "start_time": "2023-10-28T01:19:59.990016Z"
    }
   },
   "outputs": [
    {
     "name": "stdout",
     "output_type": "stream",
     "text": [
      "Hi, I'm Chatbot. i am here to help you study by asking me and i will answer you.\n",
      " Please type lowercase English language and Type quit when ever you want to end.\n",
      " now let us begin ;) please write your first question.. \n",
      " \n",
      "\n",
      ">What is a data structure?\n",
      "A data structure is a way to store and organize data efficiently, enhancing access and manipulation, unlike programming languages, algorithms, or computer hardware.\n",
      " \n",
      "\n",
      ">What are the disadvantages of arrays?\n",
      "Arrays are of fixed size. If we insert elements less than the allocated size, unoccupied positions can’t be used again. Wastage will occur in memory.\n",
      " \n",
      "\n",
      ">what is bin data structure?\n",
      "A data structure is a way to store and organize data efficiently, enhancing access and manipulation, unlike programming languages, algorithms, or computer hardware.\n",
      " \n",
      "\n",
      ">Which data structure is used for implementing recursion?\n",
      "Stacks are used for the implementation of Recursion.\n",
      " \n",
      "\n",
      ">a data structure in which elements can be inserted or deleted at/from both ends but not in the middle is?\n",
      "In dequeuer, we can insert or delete elements from both the ends. In queue, we will follow first in first out principle for insertion and deletion of elements. Element with least priority will be deleted in a priority queue.\n",
      " \n",
      "\n",
      ">Which data structure is needed to convert infix notation to postfix notation? a) Tree\n",
      "The Stack data structure is used to convert infix expression to postfix expression. The purpose of stack is to reverse the order of the operators in the expression. It also serves as a storage structure, as no operator can be printed until both of its operands have appeared.\n",
      " \n",
      "\n",
      ">what circular queue?\n",
      "In a linear queue, dequeue operation causes the starting elements of the array to be empty, and there is no way you can use that space, while in a circular queue, you can effectively use that space. Priority queue is used to delete the elements based on their priority. Higher priority elements will be deleted first whereas lower priority elements will be deleted next. Queue data structure always follows FIFO principle.\n",
      " \n",
      "\n",
      ">what is dequeue?\n",
      "A dequeue or a double ended queue is a queue with insert/delete defined for both front and rear ends of the queue.\n",
      " \n",
      "\n",
      ">what is not a balanced binary tree?\n",
      "B-tree can have more than two children.\n",
      " \n",
      "\n",
      ">quit\n",
      "goodbye. best luck :) \n"
     ]
    }
   ],
   "source": [
    "pairs = [\n",
    "    [r\"(.*) is (.*) data structure?\",\n",
    "    [\"A data structure is a way to store and organize data efficiently, enhancing access and manipulation, unlike programming languages, algorithms, or computer hardware.\\n \\n\", ]],\n",
    "    [r\"(.*) are the (.*) arrays?\",\n",
    "    [\"Arrays are of fixed size. If we insert elements less than the allocated size, unoccupied positions can’t be used again. Wastage will occur in memory.\\n \\n\", ]], \n",
    "    [r\"(.*) data structure is used for implementing recursion?\",\n",
    "    [\"Stacks are used for the implementation of Recursion.\\n \\n\", ]],\n",
    "    [r\"(.*) data structure (.*) convert infix notation to postfix notation?\",\n",
    "    [\"The Stack data structure is used to convert infix expression to postfix expression. The purpose of stack is to reverse the order of the operators in the expression. It also serves as a storage structure, as no operator can be printed until both of its operands have appeared.\\n \\n\", ]], \n",
    "    [r\" the data structure required for breadth first traversal on a graph is?\",\n",
    "    [\" in Breadth First Search Traversal, BFS, starting vertex is first taken and adjacent vertices which are unvisited are also taken. Again, the first vertex which was added as an unvisited adjacent vertex list will be considered to add further unvisited vertices of the graph. To get the first unvisited vertex we need to follows First In First Out principle. Queue uses FIFO principle.\\n \\n\", ] ], \n",
    "    [r\"a data structure in which elements can be inserted or deleted at/from both ends but not in the middle is?\",\n",
    "    [\"In dequeuer, we can insert or delete elements from both the ends. In queue, we will follow first in first out principle for insertion and deletion of elements. Element with least priority will be deleted in a priority queue.\\n \\n\", ]], \n",
    "    [r\"(.*) data structure is based on the last in first Out principle?\",\n",
    "    [\"The data structure that follows the Last In First Out (LIFO) principle is the Stack. It operates like a stack of objects, making it suitable for specific-order management.\\n \\n\", ]], \n",
    "    [r\"(.*) a bit array?\",\n",
    "    [\"Data structure that compactly stores bits \\n \\n\",]], \n",
    "    [r\"(.*) is not a balanced binary tree?\",\n",
    "    ['B-tree can have more than two children.\\n \\n', ]], \n",
    "    [r\"(.*) in the top tree data structure?\",\n",
    "    [\"Top tree is a type of data structure which is based on unrooted dynamic binary tree and is used to solve path related problems. It allows an algorithm called divide and conquer.\\n \\n\"]],\n",
    "    [r\"(.*) circular queue?\",\n",
    "    [\"In a linear queue, dequeue operation causes the starting elements of the array to be empty, and there is no way you can use that space, while in a circular queue, you can effectively use that space. Priority queue is used to delete the elements based on their priority. Higher priority elements will be deleted first whereas lower priority elements will be deleted next. Queue data structure always follows FIFO principle.\\n \\n\", ]], \n",
    "    [r\"(.*) AVL tree?\",\n",
    "    [\"First, the string ‘san foundry’ is pushed one by one into the stack.\\n \\n\"]],\n",
    "    [\"(.*) time complexity for (.*) Van Emde Boas data structure?\", \n",
    "    [r\"In order to search a key or integer in the Van Emde Boas data structure, the operation can be performed on an associative array. Hence, the time complexity for searching a key or integer in Van Emde Boas data structure is O (log (log M)).\\n \\n\"]],\n",
    "    [r\"(.*) bin data structure?\",\n",
    "    [\"Bin data structure allows us to have efficient region queries. A frequency of bin is increased by one each time a data point falls into a bin.\\n \\n\", ]], \n",
    "    [ r\"(.*) hash table?\",\n",
    "    [\"Hash table is a data structure that has an advantage that it allows fast access of elements. Hash functions are used to determine the index of any input record in a hash table. \\n \\n\"]], \n",
    "    [r\"(.*) dequeue?\",\n",
    "    [\"A dequeue or a double ended queue is a queue with insert/delete defined for both front and rear ends of the queue.\\n \\n\"]], \n",
    "    [r\"quit\",\n",
    "    [\"goodbye. best luck :) \", \"It was nice talking to you. good luck in your exams :)\"]],\n",
    "]  # write question and answers\n",
    "\n",
    "def chatty():\n",
    "# default message at the start\n",
    "    print(\"Hi, I'm Chatbot. i am here to help you study by asking me and i will answer you.\\n Please type lowercase English language and Type quit when ever you want to end.\\n now let us begin ;) please write your first question.. \\n \\n\")\n",
    "    chat = Chat (pairs, reflections)\n",
    "    chat. converse()\n",
    "if __name__ == \"__main__\":\n",
    "    chatty ()"
   ]
  },
  {
   "cell_type": "markdown",
   "id": "2f737f59",
   "metadata": {},
   "source": [
    "# Reference link for the questions and answers that i used:\n",
    "\n",
    "https://www.sanfoundry.com/1000-data-structure-questions-answers/"
   ]
  },
  {
   "cell_type": "code",
   "execution_count": null,
   "id": "c8527be8",
   "metadata": {},
   "outputs": [],
   "source": []
  }
 ],
 "metadata": {
  "kernelspec": {
   "display_name": "Python 3 (ipykernel)",
   "language": "python",
   "name": "python3"
  },
  "language_info": {
   "codemirror_mode": {
    "name": "ipython",
    "version": 3
   },
   "file_extension": ".py",
   "mimetype": "text/x-python",
   "name": "python",
   "nbconvert_exporter": "python",
   "pygments_lexer": "ipython3",
   "version": "3.9.12"
  },
  "toc": {
   "base_numbering": 1,
   "nav_menu": {},
   "number_sections": true,
   "sideBar": true,
   "skip_h1_title": false,
   "title_cell": "Table of Contents",
   "title_sidebar": "Contents",
   "toc_cell": false,
   "toc_position": {},
   "toc_section_display": true,
   "toc_window_display": false
  },
  "varInspector": {
   "cols": {
    "lenName": 16,
    "lenType": 16,
    "lenVar": 40
   },
   "kernels_config": {
    "python": {
     "delete_cmd_postfix": "",
     "delete_cmd_prefix": "del ",
     "library": "var_list.py",
     "varRefreshCmd": "print(var_dic_list())"
    },
    "r": {
     "delete_cmd_postfix": ") ",
     "delete_cmd_prefix": "rm(",
     "library": "var_list.r",
     "varRefreshCmd": "cat(var_dic_list()) "
    }
   },
   "types_to_exclude": [
    "module",
    "function",
    "builtin_function_or_method",
    "instance",
    "_Feature"
   ],
   "window_display": false
  }
 },
 "nbformat": 4,
 "nbformat_minor": 5
}
