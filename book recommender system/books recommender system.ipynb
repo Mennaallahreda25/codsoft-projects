{
 "cells": [
  {
   "cell_type": "markdown",
   "id": "963fd925",
   "metadata": {},
   "source": [
    "# Content\n",
    "The Book-Crossing dataset comprises 3 files.\n",
    "\n",
    "* Users\n",
    "Contains the users. Note that user IDs (User-ID) have been anonymized and map to integers. Demographic data is provided (Location, Age) if available. Otherwise, these fields contain NULL-values.\n",
    "\n",
    "* Books\n",
    "Books are identified by their respective ISBN. Invalid ISBNs have already been removed from the dataset. Moreover, some content-based information is given (Book-Title, Book-Author, Year-Of-Publication, Publisher), obtained from Amazon Web Services. Note that in case of several authors, only the first is provided. URLs linking to cover images are also given, appearing in three different flavours (Image-URL-S, Image-URL-M, Image-URL-L), i.e., small, medium, large. These URLs point to the Amazon web site.\n",
    "\n",
    "* Ratings\n",
    "Contains the book rating information. Ratings (Book-Rating) are either explicit, expressed on a scale from 1-10 (higher values denoting higher appreciation), or implicit, expressed by 0."
   ]
  },
  {
   "cell_type": "code",
   "execution_count": 87,
   "id": "3e645d2f",
   "metadata": {
    "ExecuteTime": {
     "end_time": "2023-10-28T18:48:03.227993Z",
     "start_time": "2023-10-28T18:48:03.212036Z"
    }
   },
   "outputs": [],
   "source": [
    "# Importing Libraries\n",
    "import numpy as np\n",
    "import pandas as pd\n",
    "import sklearn\n",
    "import matplotlib.pyplot as plt\n",
    "import seaborn as sns"
   ]
  },
  {
   "cell_type": "code",
   "execution_count": 88,
   "id": "a3f149e1",
   "metadata": {
    "ExecuteTime": {
     "end_time": "2023-10-28T18:48:05.501340Z",
     "start_time": "2023-10-28T18:48:04.371785Z"
    }
   },
   "outputs": [
    {
     "name": "stdout",
     "output_type": "stream",
     "text": [
      "   User-ID        ISBN  Book-Rating\n",
      "0   276725  034545104X            0\n",
      "1   276726  0155061224            5\n",
      "2   276727  0446520802            0\n",
      "3   276729  052165615X            3\n",
      "4   276729  0521795028            6\n"
     ]
    }
   ],
   "source": [
    "#loading rating dataset\n",
    "ratings = pd.read_csv(\"Ratings.csv\")\n",
    "print(ratings.head())"
   ]
  },
  {
   "cell_type": "code",
   "execution_count": 89,
   "id": "8c96c675",
   "metadata": {
    "ExecuteTime": {
     "end_time": "2023-10-28T18:48:09.963372Z",
     "start_time": "2023-10-28T18:48:06.658363Z"
    }
   },
   "outputs": [
    {
     "name": "stdout",
     "output_type": "stream",
     "text": [
      "         ISBN                                         Book-Title  \\\n",
      "0  0195153448                                Classical Mythology   \n",
      "1  0002005018                                       Clara Callan   \n",
      "2  0060973129                               Decision in Normandy   \n",
      "3  0374157065  Flu: The Story of the Great Influenza Pandemic...   \n",
      "4  0393045218                             The Mummies of Urumchi   \n",
      "\n",
      "            Book-Author Year-Of-Publication                   Publisher  \\\n",
      "0    Mark P. O. Morford                2002     Oxford University Press   \n",
      "1  Richard Bruce Wright                2001       HarperFlamingo Canada   \n",
      "2          Carlo D'Este                1991             HarperPerennial   \n",
      "3      Gina Bari Kolata                1999        Farrar Straus Giroux   \n",
      "4       E. J. W. Barber                1999  W. W. Norton &amp; Company   \n",
      "\n",
      "                                         Image-URL-S  \\\n",
      "0  http://images.amazon.com/images/P/0195153448.0...   \n",
      "1  http://images.amazon.com/images/P/0002005018.0...   \n",
      "2  http://images.amazon.com/images/P/0060973129.0...   \n",
      "3  http://images.amazon.com/images/P/0374157065.0...   \n",
      "4  http://images.amazon.com/images/P/0393045218.0...   \n",
      "\n",
      "                                         Image-URL-M  \\\n",
      "0  http://images.amazon.com/images/P/0195153448.0...   \n",
      "1  http://images.amazon.com/images/P/0002005018.0...   \n",
      "2  http://images.amazon.com/images/P/0060973129.0...   \n",
      "3  http://images.amazon.com/images/P/0374157065.0...   \n",
      "4  http://images.amazon.com/images/P/0393045218.0...   \n",
      "\n",
      "                                         Image-URL-L  \n",
      "0  http://images.amazon.com/images/P/0195153448.0...  \n",
      "1  http://images.amazon.com/images/P/0002005018.0...  \n",
      "2  http://images.amazon.com/images/P/0060973129.0...  \n",
      "3  http://images.amazon.com/images/P/0374157065.0...  \n",
      "4  http://images.amazon.com/images/P/0393045218.0...  \n"
     ]
    },
    {
     "name": "stderr",
     "output_type": "stream",
     "text": [
      "C:\\Users\\hp\\AppData\\Local\\Temp\\ipykernel_13052\\2615680059.py:2: DtypeWarning: Columns (3) have mixed types. Specify dtype option on import or set low_memory=False.\n",
      "  books = pd.read_csv(\"Books.csv\")\n"
     ]
    }
   ],
   "source": [
    "# loading books dataset\n",
    "books = pd.read_csv(\"Books.csv\")\n",
    "print(books.head())"
   ]
  },
  {
   "cell_type": "code",
   "execution_count": 90,
   "id": "b8cd6126",
   "metadata": {
    "ExecuteTime": {
     "end_time": "2023-10-28T18:48:15.307722Z",
     "start_time": "2023-10-28T18:48:14.805669Z"
    }
   },
   "outputs": [
    {
     "name": "stdout",
     "output_type": "stream",
     "text": [
      "   User-ID                            Location   Age\n",
      "0        1                  nyc, new york, usa   NaN\n",
      "1        2           stockton, california, usa  18.0\n",
      "2        3     moscow, yukon territory, russia   NaN\n",
      "3        4           porto, v.n.gaia, portugal  17.0\n",
      "4        5  farnborough, hants, united kingdom   NaN\n"
     ]
    }
   ],
   "source": [
    "# loading users dataset\n",
    "users = pd.read_csv(\"Users.csv\")\n",
    "print(users.head())"
   ]
  },
  {
   "cell_type": "code",
   "execution_count": 91,
   "id": "aa73164b",
   "metadata": {
    "ExecuteTime": {
     "end_time": "2023-10-28T18:48:18.873651Z",
     "start_time": "2023-10-28T18:48:17.944056Z"
    }
   },
   "outputs": [],
   "source": [
    "ratings_with_name=ratings.merge(books, on=\"ISBN\")"
   ]
  },
  {
   "cell_type": "code",
   "execution_count": 92,
   "id": "55d9e59e",
   "metadata": {
    "ExecuteTime": {
     "end_time": "2023-10-28T18:48:21.118998Z",
     "start_time": "2023-10-28T18:48:20.048696Z"
    }
   },
   "outputs": [],
   "source": [
    "df=ratings_with_name.merge(users, on=\"User-ID\")"
   ]
  },
  {
   "cell_type": "code",
   "execution_count": 93,
   "id": "dd1c2489",
   "metadata": {
    "ExecuteTime": {
     "end_time": "2023-10-28T18:48:22.371851Z",
     "start_time": "2023-10-28T18:48:22.346418Z"
    },
    "scrolled": true
   },
   "outputs": [
    {
     "data": {
      "text/html": [
       "<div>\n",
       "<style scoped>\n",
       "    .dataframe tbody tr th:only-of-type {\n",
       "        vertical-align: middle;\n",
       "    }\n",
       "\n",
       "    .dataframe tbody tr th {\n",
       "        vertical-align: top;\n",
       "    }\n",
       "\n",
       "    .dataframe thead th {\n",
       "        text-align: right;\n",
       "    }\n",
       "</style>\n",
       "<table border=\"1\" class=\"dataframe\">\n",
       "  <thead>\n",
       "    <tr style=\"text-align: right;\">\n",
       "      <th></th>\n",
       "      <th>User-ID</th>\n",
       "      <th>ISBN</th>\n",
       "      <th>Book-Rating</th>\n",
       "      <th>Book-Title</th>\n",
       "      <th>Book-Author</th>\n",
       "      <th>Year-Of-Publication</th>\n",
       "      <th>Publisher</th>\n",
       "      <th>Image-URL-S</th>\n",
       "      <th>Image-URL-M</th>\n",
       "      <th>Image-URL-L</th>\n",
       "      <th>Location</th>\n",
       "      <th>Age</th>\n",
       "    </tr>\n",
       "  </thead>\n",
       "  <tbody>\n",
       "    <tr>\n",
       "      <th>0</th>\n",
       "      <td>276725</td>\n",
       "      <td>034545104X</td>\n",
       "      <td>0</td>\n",
       "      <td>Flesh Tones: A Novel</td>\n",
       "      <td>M. J. Rose</td>\n",
       "      <td>2002</td>\n",
       "      <td>Ballantine Books</td>\n",
       "      <td>http://images.amazon.com/images/P/034545104X.0...</td>\n",
       "      <td>http://images.amazon.com/images/P/034545104X.0...</td>\n",
       "      <td>http://images.amazon.com/images/P/034545104X.0...</td>\n",
       "      <td>tyler, texas, usa</td>\n",
       "      <td>NaN</td>\n",
       "    </tr>\n",
       "    <tr>\n",
       "      <th>1</th>\n",
       "      <td>2313</td>\n",
       "      <td>034545104X</td>\n",
       "      <td>5</td>\n",
       "      <td>Flesh Tones: A Novel</td>\n",
       "      <td>M. J. Rose</td>\n",
       "      <td>2002</td>\n",
       "      <td>Ballantine Books</td>\n",
       "      <td>http://images.amazon.com/images/P/034545104X.0...</td>\n",
       "      <td>http://images.amazon.com/images/P/034545104X.0...</td>\n",
       "      <td>http://images.amazon.com/images/P/034545104X.0...</td>\n",
       "      <td>cincinnati, ohio, usa</td>\n",
       "      <td>23.0</td>\n",
       "    </tr>\n",
       "    <tr>\n",
       "      <th>2</th>\n",
       "      <td>2313</td>\n",
       "      <td>0812533550</td>\n",
       "      <td>9</td>\n",
       "      <td>Ender's Game (Ender Wiggins Saga (Paperback))</td>\n",
       "      <td>Orson Scott Card</td>\n",
       "      <td>1986</td>\n",
       "      <td>Tor Books</td>\n",
       "      <td>http://images.amazon.com/images/P/0812533550.0...</td>\n",
       "      <td>http://images.amazon.com/images/P/0812533550.0...</td>\n",
       "      <td>http://images.amazon.com/images/P/0812533550.0...</td>\n",
       "      <td>cincinnati, ohio, usa</td>\n",
       "      <td>23.0</td>\n",
       "    </tr>\n",
       "    <tr>\n",
       "      <th>3</th>\n",
       "      <td>2313</td>\n",
       "      <td>0679745580</td>\n",
       "      <td>8</td>\n",
       "      <td>In Cold Blood (Vintage International)</td>\n",
       "      <td>TRUMAN CAPOTE</td>\n",
       "      <td>1994</td>\n",
       "      <td>Vintage</td>\n",
       "      <td>http://images.amazon.com/images/P/0679745580.0...</td>\n",
       "      <td>http://images.amazon.com/images/P/0679745580.0...</td>\n",
       "      <td>http://images.amazon.com/images/P/0679745580.0...</td>\n",
       "      <td>cincinnati, ohio, usa</td>\n",
       "      <td>23.0</td>\n",
       "    </tr>\n",
       "    <tr>\n",
       "      <th>4</th>\n",
       "      <td>2313</td>\n",
       "      <td>0060173289</td>\n",
       "      <td>9</td>\n",
       "      <td>Divine Secrets of the Ya-Ya Sisterhood : A Novel</td>\n",
       "      <td>Rebecca Wells</td>\n",
       "      <td>1996</td>\n",
       "      <td>HarperCollins</td>\n",
       "      <td>http://images.amazon.com/images/P/0060173289.0...</td>\n",
       "      <td>http://images.amazon.com/images/P/0060173289.0...</td>\n",
       "      <td>http://images.amazon.com/images/P/0060173289.0...</td>\n",
       "      <td>cincinnati, ohio, usa</td>\n",
       "      <td>23.0</td>\n",
       "    </tr>\n",
       "  </tbody>\n",
       "</table>\n",
       "</div>"
      ],
      "text/plain": [
       "   User-ID        ISBN  Book-Rating  \\\n",
       "0   276725  034545104X            0   \n",
       "1     2313  034545104X            5   \n",
       "2     2313  0812533550            9   \n",
       "3     2313  0679745580            8   \n",
       "4     2313  0060173289            9   \n",
       "\n",
       "                                         Book-Title       Book-Author  \\\n",
       "0                              Flesh Tones: A Novel        M. J. Rose   \n",
       "1                              Flesh Tones: A Novel        M. J. Rose   \n",
       "2     Ender's Game (Ender Wiggins Saga (Paperback))  Orson Scott Card   \n",
       "3             In Cold Blood (Vintage International)     TRUMAN CAPOTE   \n",
       "4  Divine Secrets of the Ya-Ya Sisterhood : A Novel     Rebecca Wells   \n",
       "\n",
       "  Year-Of-Publication         Publisher  \\\n",
       "0                2002  Ballantine Books   \n",
       "1                2002  Ballantine Books   \n",
       "2                1986         Tor Books   \n",
       "3                1994           Vintage   \n",
       "4                1996     HarperCollins   \n",
       "\n",
       "                                         Image-URL-S  \\\n",
       "0  http://images.amazon.com/images/P/034545104X.0...   \n",
       "1  http://images.amazon.com/images/P/034545104X.0...   \n",
       "2  http://images.amazon.com/images/P/0812533550.0...   \n",
       "3  http://images.amazon.com/images/P/0679745580.0...   \n",
       "4  http://images.amazon.com/images/P/0060173289.0...   \n",
       "\n",
       "                                         Image-URL-M  \\\n",
       "0  http://images.amazon.com/images/P/034545104X.0...   \n",
       "1  http://images.amazon.com/images/P/034545104X.0...   \n",
       "2  http://images.amazon.com/images/P/0812533550.0...   \n",
       "3  http://images.amazon.com/images/P/0679745580.0...   \n",
       "4  http://images.amazon.com/images/P/0060173289.0...   \n",
       "\n",
       "                                         Image-URL-L               Location  \\\n",
       "0  http://images.amazon.com/images/P/034545104X.0...      tyler, texas, usa   \n",
       "1  http://images.amazon.com/images/P/034545104X.0...  cincinnati, ohio, usa   \n",
       "2  http://images.amazon.com/images/P/0812533550.0...  cincinnati, ohio, usa   \n",
       "3  http://images.amazon.com/images/P/0679745580.0...  cincinnati, ohio, usa   \n",
       "4  http://images.amazon.com/images/P/0060173289.0...  cincinnati, ohio, usa   \n",
       "\n",
       "    Age  \n",
       "0   NaN  \n",
       "1  23.0  \n",
       "2  23.0  \n",
       "3  23.0  \n",
       "4  23.0  "
      ]
     },
     "execution_count": 93,
     "metadata": {},
     "output_type": "execute_result"
    }
   ],
   "source": [
    "df.head()"
   ]
  },
  {
   "cell_type": "code",
   "execution_count": 94,
   "id": "c215a404",
   "metadata": {
    "ExecuteTime": {
     "end_time": "2023-10-28T18:48:28.393508Z",
     "start_time": "2023-10-28T18:48:28.373564Z"
    }
   },
   "outputs": [
    {
     "data": {
      "text/plain": [
       "Index(['User-ID', 'ISBN', 'Book-Rating', 'Book-Title', 'Book-Author',\n",
       "       'Year-Of-Publication', 'Publisher', 'Image-URL-S', 'Image-URL-M',\n",
       "       'Image-URL-L', 'Location', 'Age'],\n",
       "      dtype='object')"
      ]
     },
     "execution_count": 94,
     "metadata": {},
     "output_type": "execute_result"
    }
   ],
   "source": [
    "df.columns"
   ]
  },
  {
   "cell_type": "code",
   "execution_count": 95,
   "id": "4e7c6beb",
   "metadata": {
    "ExecuteTime": {
     "end_time": "2023-10-28T18:48:30.073839Z",
     "start_time": "2023-10-28T18:48:29.577716Z"
    }
   },
   "outputs": [],
   "source": [
    "df.drop(columns=[\"Image-URL-L\", \"Image-URL-S\", \"Image-URL-M\",\"Age\",'ISBN'], axis=1,inplace=True)"
   ]
  },
  {
   "cell_type": "code",
   "execution_count": 96,
   "id": "9f09e532",
   "metadata": {
    "ExecuteTime": {
     "end_time": "2023-10-28T18:48:31.200467Z",
     "start_time": "2023-10-28T18:48:31.172594Z"
    },
    "scrolled": true
   },
   "outputs": [
    {
     "data": {
      "text/html": [
       "<div>\n",
       "<style scoped>\n",
       "    .dataframe tbody tr th:only-of-type {\n",
       "        vertical-align: middle;\n",
       "    }\n",
       "\n",
       "    .dataframe tbody tr th {\n",
       "        vertical-align: top;\n",
       "    }\n",
       "\n",
       "    .dataframe thead th {\n",
       "        text-align: right;\n",
       "    }\n",
       "</style>\n",
       "<table border=\"1\" class=\"dataframe\">\n",
       "  <thead>\n",
       "    <tr style=\"text-align: right;\">\n",
       "      <th></th>\n",
       "      <th>User-ID</th>\n",
       "      <th>Book-Rating</th>\n",
       "      <th>Book-Title</th>\n",
       "      <th>Book-Author</th>\n",
       "      <th>Year-Of-Publication</th>\n",
       "      <th>Publisher</th>\n",
       "      <th>Location</th>\n",
       "    </tr>\n",
       "  </thead>\n",
       "  <tbody>\n",
       "    <tr>\n",
       "      <th>0</th>\n",
       "      <td>276725</td>\n",
       "      <td>0</td>\n",
       "      <td>Flesh Tones: A Novel</td>\n",
       "      <td>M. J. Rose</td>\n",
       "      <td>2002</td>\n",
       "      <td>Ballantine Books</td>\n",
       "      <td>tyler, texas, usa</td>\n",
       "    </tr>\n",
       "    <tr>\n",
       "      <th>1</th>\n",
       "      <td>2313</td>\n",
       "      <td>5</td>\n",
       "      <td>Flesh Tones: A Novel</td>\n",
       "      <td>M. J. Rose</td>\n",
       "      <td>2002</td>\n",
       "      <td>Ballantine Books</td>\n",
       "      <td>cincinnati, ohio, usa</td>\n",
       "    </tr>\n",
       "    <tr>\n",
       "      <th>2</th>\n",
       "      <td>2313</td>\n",
       "      <td>9</td>\n",
       "      <td>Ender's Game (Ender Wiggins Saga (Paperback))</td>\n",
       "      <td>Orson Scott Card</td>\n",
       "      <td>1986</td>\n",
       "      <td>Tor Books</td>\n",
       "      <td>cincinnati, ohio, usa</td>\n",
       "    </tr>\n",
       "    <tr>\n",
       "      <th>3</th>\n",
       "      <td>2313</td>\n",
       "      <td>8</td>\n",
       "      <td>In Cold Blood (Vintage International)</td>\n",
       "      <td>TRUMAN CAPOTE</td>\n",
       "      <td>1994</td>\n",
       "      <td>Vintage</td>\n",
       "      <td>cincinnati, ohio, usa</td>\n",
       "    </tr>\n",
       "    <tr>\n",
       "      <th>4</th>\n",
       "      <td>2313</td>\n",
       "      <td>9</td>\n",
       "      <td>Divine Secrets of the Ya-Ya Sisterhood : A Novel</td>\n",
       "      <td>Rebecca Wells</td>\n",
       "      <td>1996</td>\n",
       "      <td>HarperCollins</td>\n",
       "      <td>cincinnati, ohio, usa</td>\n",
       "    </tr>\n",
       "    <tr>\n",
       "      <th>...</th>\n",
       "      <td>...</td>\n",
       "      <td>...</td>\n",
       "      <td>...</td>\n",
       "      <td>...</td>\n",
       "      <td>...</td>\n",
       "      <td>...</td>\n",
       "      <td>...</td>\n",
       "    </tr>\n",
       "    <tr>\n",
       "      <th>1031131</th>\n",
       "      <td>276442</td>\n",
       "      <td>7</td>\n",
       "      <td>Le Huit</td>\n",
       "      <td>Katherine Neville</td>\n",
       "      <td>2002</td>\n",
       "      <td>Le Cherche Midi</td>\n",
       "      <td>genève, genève, switzerland</td>\n",
       "    </tr>\n",
       "    <tr>\n",
       "      <th>1031132</th>\n",
       "      <td>276618</td>\n",
       "      <td>5</td>\n",
       "      <td>Ludwig Marum: Briefe aus dem Konzentrationslag...</td>\n",
       "      <td>Ludwig Marum</td>\n",
       "      <td>1984</td>\n",
       "      <td>C.F. MÃ¼ller</td>\n",
       "      <td>stuttgart, \\n/a\\\"., germany\"</td>\n",
       "    </tr>\n",
       "    <tr>\n",
       "      <th>1031133</th>\n",
       "      <td>276647</td>\n",
       "      <td>0</td>\n",
       "      <td>Christmas With Anne and Other Holiday Stories:...</td>\n",
       "      <td>L. M. Montgomery</td>\n",
       "      <td>2001</td>\n",
       "      <td>Starfire</td>\n",
       "      <td>arlington heights, illinois, usa</td>\n",
       "    </tr>\n",
       "    <tr>\n",
       "      <th>1031134</th>\n",
       "      <td>276647</td>\n",
       "      <td>10</td>\n",
       "      <td>Heaven (Coretta Scott King Author Award Winner)</td>\n",
       "      <td>Angela Johnson</td>\n",
       "      <td>1998</td>\n",
       "      <td>Simon &amp;amp; Schuster Children's Publishing</td>\n",
       "      <td>arlington heights, illinois, usa</td>\n",
       "    </tr>\n",
       "    <tr>\n",
       "      <th>1031135</th>\n",
       "      <td>276660</td>\n",
       "      <td>8</td>\n",
       "      <td>ROBOT RACE (MICRO ADV 6)</td>\n",
       "      <td>David Antony Kroft</td>\n",
       "      <td>1985</td>\n",
       "      <td>HarperCollins Publishers</td>\n",
       "      <td>singapore, n/a, singapore</td>\n",
       "    </tr>\n",
       "  </tbody>\n",
       "</table>\n",
       "<p>1031136 rows × 7 columns</p>\n",
       "</div>"
      ],
      "text/plain": [
       "         User-ID  Book-Rating  \\\n",
       "0         276725            0   \n",
       "1           2313            5   \n",
       "2           2313            9   \n",
       "3           2313            8   \n",
       "4           2313            9   \n",
       "...          ...          ...   \n",
       "1031131   276442            7   \n",
       "1031132   276618            5   \n",
       "1031133   276647            0   \n",
       "1031134   276647           10   \n",
       "1031135   276660            8   \n",
       "\n",
       "                                                Book-Title  \\\n",
       "0                                     Flesh Tones: A Novel   \n",
       "1                                     Flesh Tones: A Novel   \n",
       "2            Ender's Game (Ender Wiggins Saga (Paperback))   \n",
       "3                    In Cold Blood (Vintage International)   \n",
       "4         Divine Secrets of the Ya-Ya Sisterhood : A Novel   \n",
       "...                                                    ...   \n",
       "1031131                                            Le Huit   \n",
       "1031132  Ludwig Marum: Briefe aus dem Konzentrationslag...   \n",
       "1031133  Christmas With Anne and Other Holiday Stories:...   \n",
       "1031134    Heaven (Coretta Scott King Author Award Winner)   \n",
       "1031135                           ROBOT RACE (MICRO ADV 6)   \n",
       "\n",
       "                Book-Author Year-Of-Publication  \\\n",
       "0                M. J. Rose                2002   \n",
       "1                M. J. Rose                2002   \n",
       "2          Orson Scott Card                1986   \n",
       "3             TRUMAN CAPOTE                1994   \n",
       "4             Rebecca Wells                1996   \n",
       "...                     ...                 ...   \n",
       "1031131   Katherine Neville                2002   \n",
       "1031132        Ludwig Marum                1984   \n",
       "1031133    L. M. Montgomery                2001   \n",
       "1031134      Angela Johnson                1998   \n",
       "1031135  David Antony Kroft                1985   \n",
       "\n",
       "                                          Publisher  \\\n",
       "0                                  Ballantine Books   \n",
       "1                                  Ballantine Books   \n",
       "2                                         Tor Books   \n",
       "3                                           Vintage   \n",
       "4                                     HarperCollins   \n",
       "...                                             ...   \n",
       "1031131                             Le Cherche Midi   \n",
       "1031132                                C.F. MÃ¼ller   \n",
       "1031133                                    Starfire   \n",
       "1031134  Simon &amp; Schuster Children's Publishing   \n",
       "1031135                    HarperCollins Publishers   \n",
       "\n",
       "                                 Location  \n",
       "0                       tyler, texas, usa  \n",
       "1                   cincinnati, ohio, usa  \n",
       "2                   cincinnati, ohio, usa  \n",
       "3                   cincinnati, ohio, usa  \n",
       "4                   cincinnati, ohio, usa  \n",
       "...                                   ...  \n",
       "1031131       genève, genève, switzerland  \n",
       "1031132      stuttgart, \\n/a\\\"., germany\"  \n",
       "1031133  arlington heights, illinois, usa  \n",
       "1031134  arlington heights, illinois, usa  \n",
       "1031135         singapore, n/a, singapore  \n",
       "\n",
       "[1031136 rows x 7 columns]"
      ]
     },
     "execution_count": 96,
     "metadata": {},
     "output_type": "execute_result"
    }
   ],
   "source": [
    "df"
   ]
  },
  {
   "cell_type": "code",
   "execution_count": 97,
   "id": "7fbc9698",
   "metadata": {
    "ExecuteTime": {
     "end_time": "2023-10-28T18:48:41.580954Z",
     "start_time": "2023-10-28T18:48:41.230857Z"
    }
   },
   "outputs": [
    {
     "name": "stdout",
     "output_type": "stream",
     "text": [
      "Number of ratings: 1031136\n",
      "Number of unique movieId's: 241071\n",
      "Number of unique users: 92106\n",
      "Average ratings per user: 11.2\n",
      "Average ratings per movie: 4.28\n"
     ]
    }
   ],
   "source": [
    "# Statistical Analysis of Ratings\n",
    "n_ratings = len(df[\"Book-Rating\"])\n",
    "n_books = len(df['Book-Title'].unique())\n",
    "n_users = len(df['User-ID'].unique())\n",
    "\n",
    "print(f\"Number of ratings: {n_ratings}\")\n",
    "print(f\"Number of unique movieId's: {n_books}\")\n",
    "print(f\"Number of unique users: {n_users}\")\n",
    "print(f\"Average ratings per user: {round(n_ratings/n_users, 2)}\")\n",
    "print(f\"Average ratings per movie: {round(n_ratings/n_books, 2)}\")"
   ]
  },
  {
   "cell_type": "code",
   "execution_count": 98,
   "id": "d1ace2ac",
   "metadata": {
    "ExecuteTime": {
     "end_time": "2023-10-28T18:48:43.045657Z",
     "start_time": "2023-10-28T18:48:42.641206Z"
    }
   },
   "outputs": [
    {
     "name": "stdout",
     "output_type": "stream",
     "text": [
      "   User-ID  n_ratings\n",
      "0        2          1\n",
      "1        8         17\n",
      "2        9          3\n",
      "3       10          1\n",
      "4       12          1\n"
     ]
    }
   ],
   "source": [
    "# User Rating Frequency\n",
    "user_freq = df[['User-ID', 'Book-Title']].groupby('User-ID').count().reset_index()\n",
    "user_freq.columns = ['User-ID', 'n_ratings']\n",
    "print(user_freq.head())"
   ]
  },
  {
   "cell_type": "code",
   "execution_count": 99,
   "id": "a525527a",
   "metadata": {
    "ExecuteTime": {
     "end_time": "2023-10-28T18:51:49.612198Z",
     "start_time": "2023-10-28T18:51:48.262005Z"
    }
   },
   "outputs": [],
   "source": [
    "from sklearn.preprocessing import LabelEncoder\n",
    "booksID = LabelEncoder()\n",
    "df['Book-ID'] = booksID.fit_transform(df['Book-Title'])    "
   ]
  },
  {
   "cell_type": "code",
   "execution_count": 100,
   "id": "c9792bdf",
   "metadata": {
    "ExecuteTime": {
     "end_time": "2023-10-28T18:51:50.919702Z",
     "start_time": "2023-10-28T18:51:50.782934Z"
    }
   },
   "outputs": [
    {
     "data": {
      "text/html": [
       "<div>\n",
       "<style scoped>\n",
       "    .dataframe tbody tr th:only-of-type {\n",
       "        vertical-align: middle;\n",
       "    }\n",
       "\n",
       "    .dataframe tbody tr th {\n",
       "        vertical-align: top;\n",
       "    }\n",
       "\n",
       "    .dataframe thead th {\n",
       "        text-align: right;\n",
       "    }\n",
       "</style>\n",
       "<table border=\"1\" class=\"dataframe\">\n",
       "  <thead>\n",
       "    <tr style=\"text-align: right;\">\n",
       "      <th></th>\n",
       "      <th>User-ID</th>\n",
       "      <th>Book-Rating</th>\n",
       "      <th>Book-Title</th>\n",
       "      <th>Book-Author</th>\n",
       "      <th>Year-Of-Publication</th>\n",
       "      <th>Publisher</th>\n",
       "      <th>Location</th>\n",
       "      <th>Book-ID</th>\n",
       "    </tr>\n",
       "  </thead>\n",
       "  <tbody>\n",
       "    <tr>\n",
       "      <th>0</th>\n",
       "      <td>276725</td>\n",
       "      <td>0</td>\n",
       "      <td>Flesh Tones: A Novel</td>\n",
       "      <td>M. J. Rose</td>\n",
       "      <td>2002</td>\n",
       "      <td>Ballantine Books</td>\n",
       "      <td>tyler, texas, usa</td>\n",
       "      <td>67829</td>\n",
       "    </tr>\n",
       "    <tr>\n",
       "      <th>1</th>\n",
       "      <td>2313</td>\n",
       "      <td>5</td>\n",
       "      <td>Flesh Tones: A Novel</td>\n",
       "      <td>M. J. Rose</td>\n",
       "      <td>2002</td>\n",
       "      <td>Ballantine Books</td>\n",
       "      <td>cincinnati, ohio, usa</td>\n",
       "      <td>67829</td>\n",
       "    </tr>\n",
       "    <tr>\n",
       "      <th>2</th>\n",
       "      <td>2313</td>\n",
       "      <td>9</td>\n",
       "      <td>Ender's Game (Ender Wiggins Saga (Paperback))</td>\n",
       "      <td>Orson Scott Card</td>\n",
       "      <td>1986</td>\n",
       "      <td>Tor Books</td>\n",
       "      <td>cincinnati, ohio, usa</td>\n",
       "      <td>60582</td>\n",
       "    </tr>\n",
       "    <tr>\n",
       "      <th>3</th>\n",
       "      <td>2313</td>\n",
       "      <td>8</td>\n",
       "      <td>In Cold Blood (Vintage International)</td>\n",
       "      <td>TRUMAN CAPOTE</td>\n",
       "      <td>1994</td>\n",
       "      <td>Vintage</td>\n",
       "      <td>cincinnati, ohio, usa</td>\n",
       "      <td>90902</td>\n",
       "    </tr>\n",
       "    <tr>\n",
       "      <th>4</th>\n",
       "      <td>2313</td>\n",
       "      <td>9</td>\n",
       "      <td>Divine Secrets of the Ya-Ya Sisterhood : A Novel</td>\n",
       "      <td>Rebecca Wells</td>\n",
       "      <td>1996</td>\n",
       "      <td>HarperCollins</td>\n",
       "      <td>cincinnati, ohio, usa</td>\n",
       "      <td>52982</td>\n",
       "    </tr>\n",
       "    <tr>\n",
       "      <th>...</th>\n",
       "      <td>...</td>\n",
       "      <td>...</td>\n",
       "      <td>...</td>\n",
       "      <td>...</td>\n",
       "      <td>...</td>\n",
       "      <td>...</td>\n",
       "      <td>...</td>\n",
       "      <td>...</td>\n",
       "    </tr>\n",
       "    <tr>\n",
       "      <th>1031131</th>\n",
       "      <td>276442</td>\n",
       "      <td>7</td>\n",
       "      <td>Le Huit</td>\n",
       "      <td>Katherine Neville</td>\n",
       "      <td>2002</td>\n",
       "      <td>Le Cherche Midi</td>\n",
       "      <td>genève, genève, switzerland</td>\n",
       "      <td>104678</td>\n",
       "    </tr>\n",
       "    <tr>\n",
       "      <th>1031132</th>\n",
       "      <td>276618</td>\n",
       "      <td>5</td>\n",
       "      <td>Ludwig Marum: Briefe aus dem Konzentrationslag...</td>\n",
       "      <td>Ludwig Marum</td>\n",
       "      <td>1984</td>\n",
       "      <td>C.F. MÃ¼ller</td>\n",
       "      <td>stuttgart, \\n/a\\\"., germany\"</td>\n",
       "      <td>113038</td>\n",
       "    </tr>\n",
       "    <tr>\n",
       "      <th>1031133</th>\n",
       "      <td>276647</td>\n",
       "      <td>0</td>\n",
       "      <td>Christmas With Anne and Other Holiday Stories:...</td>\n",
       "      <td>L. M. Montgomery</td>\n",
       "      <td>2001</td>\n",
       "      <td>Starfire</td>\n",
       "      <td>arlington heights, illinois, usa</td>\n",
       "      <td>35210</td>\n",
       "    </tr>\n",
       "    <tr>\n",
       "      <th>1031134</th>\n",
       "      <td>276647</td>\n",
       "      <td>10</td>\n",
       "      <td>Heaven (Coretta Scott King Author Award Winner)</td>\n",
       "      <td>Angela Johnson</td>\n",
       "      <td>1998</td>\n",
       "      <td>Simon &amp;amp; Schuster Children's Publishing</td>\n",
       "      <td>arlington heights, illinois, usa</td>\n",
       "      <td>81799</td>\n",
       "    </tr>\n",
       "    <tr>\n",
       "      <th>1031135</th>\n",
       "      <td>276660</td>\n",
       "      <td>8</td>\n",
       "      <td>ROBOT RACE (MICRO ADV 6)</td>\n",
       "      <td>David Antony Kroft</td>\n",
       "      <td>1985</td>\n",
       "      <td>HarperCollins Publishers</td>\n",
       "      <td>singapore, n/a, singapore</td>\n",
       "      <td>146158</td>\n",
       "    </tr>\n",
       "  </tbody>\n",
       "</table>\n",
       "<p>1031136 rows × 8 columns</p>\n",
       "</div>"
      ],
      "text/plain": [
       "         User-ID  Book-Rating  \\\n",
       "0         276725            0   \n",
       "1           2313            5   \n",
       "2           2313            9   \n",
       "3           2313            8   \n",
       "4           2313            9   \n",
       "...          ...          ...   \n",
       "1031131   276442            7   \n",
       "1031132   276618            5   \n",
       "1031133   276647            0   \n",
       "1031134   276647           10   \n",
       "1031135   276660            8   \n",
       "\n",
       "                                                Book-Title  \\\n",
       "0                                     Flesh Tones: A Novel   \n",
       "1                                     Flesh Tones: A Novel   \n",
       "2            Ender's Game (Ender Wiggins Saga (Paperback))   \n",
       "3                    In Cold Blood (Vintage International)   \n",
       "4         Divine Secrets of the Ya-Ya Sisterhood : A Novel   \n",
       "...                                                    ...   \n",
       "1031131                                            Le Huit   \n",
       "1031132  Ludwig Marum: Briefe aus dem Konzentrationslag...   \n",
       "1031133  Christmas With Anne and Other Holiday Stories:...   \n",
       "1031134    Heaven (Coretta Scott King Author Award Winner)   \n",
       "1031135                           ROBOT RACE (MICRO ADV 6)   \n",
       "\n",
       "                Book-Author Year-Of-Publication  \\\n",
       "0                M. J. Rose                2002   \n",
       "1                M. J. Rose                2002   \n",
       "2          Orson Scott Card                1986   \n",
       "3             TRUMAN CAPOTE                1994   \n",
       "4             Rebecca Wells                1996   \n",
       "...                     ...                 ...   \n",
       "1031131   Katherine Neville                2002   \n",
       "1031132        Ludwig Marum                1984   \n",
       "1031133    L. M. Montgomery                2001   \n",
       "1031134      Angela Johnson                1998   \n",
       "1031135  David Antony Kroft                1985   \n",
       "\n",
       "                                          Publisher  \\\n",
       "0                                  Ballantine Books   \n",
       "1                                  Ballantine Books   \n",
       "2                                         Tor Books   \n",
       "3                                           Vintage   \n",
       "4                                     HarperCollins   \n",
       "...                                             ...   \n",
       "1031131                             Le Cherche Midi   \n",
       "1031132                                C.F. MÃ¼ller   \n",
       "1031133                                    Starfire   \n",
       "1031134  Simon &amp; Schuster Children's Publishing   \n",
       "1031135                    HarperCollins Publishers   \n",
       "\n",
       "                                 Location  Book-ID  \n",
       "0                       tyler, texas, usa    67829  \n",
       "1                   cincinnati, ohio, usa    67829  \n",
       "2                   cincinnati, ohio, usa    60582  \n",
       "3                   cincinnati, ohio, usa    90902  \n",
       "4                   cincinnati, ohio, usa    52982  \n",
       "...                                   ...      ...  \n",
       "1031131       genève, genève, switzerland   104678  \n",
       "1031132      stuttgart, \\n/a\\\"., germany\"   113038  \n",
       "1031133  arlington heights, illinois, usa    35210  \n",
       "1031134  arlington heights, illinois, usa    81799  \n",
       "1031135         singapore, n/a, singapore   146158  \n",
       "\n",
       "[1031136 rows x 8 columns]"
      ]
     },
     "execution_count": 100,
     "metadata": {},
     "output_type": "execute_result"
    }
   ],
   "source": [
    "df"
   ]
  },
  {
   "cell_type": "code",
   "execution_count": 101,
   "id": "9b7fe5c1",
   "metadata": {
    "ExecuteTime": {
     "end_time": "2023-10-28T18:53:35.995292Z",
     "start_time": "2023-10-28T18:53:35.601821Z"
    }
   },
   "outputs": [],
   "source": [
    "# books rating analysis\n",
    "# Find Lowest and Highest rated:\n",
    "mean_rating = df.groupby('Book-ID')[['Book-Rating']].mean()\n",
    "# Lowest rated\n",
    "lowest_rated = mean_rating['Book-Rating'].idxmin()\n",
    "df.loc[df['Book-ID'] == lowest_rated]\n",
    "# Highest rated\n",
    "highest_rated = mean_rating['Book-Rating'].idxmax()\n",
    "df.loc[df['Book-ID'] == highest_rated]\n",
    "# show number of people who rated books rated book highest\n",
    "df[df['Book-ID']==highest_rated]\n",
    "# show number of people who rated books rated book lowest\n",
    "df[df['Book-ID']==lowest_rated]\n",
    "\n",
    "## the above movies has very low dataset. We will use bayesian average\n",
    "book_stats = df.groupby('Book-ID')[['Book-Rating']].agg(['count', 'mean'])\n",
    "book_stats.columns = book_stats.columns.droplevel()"
   ]
  },
  {
   "cell_type": "code",
   "execution_count": 102,
   "id": "6c53f512",
   "metadata": {
    "ExecuteTime": {
     "end_time": "2023-10-28T18:53:37.484996Z",
     "start_time": "2023-10-28T18:53:37.466022Z"
    },
    "scrolled": true
   },
   "outputs": [
    {
     "data": {
      "text/plain": [
       "Index(['User-ID', 'Book-Rating', 'Book-Title', 'Book-Author',\n",
       "       'Year-Of-Publication', 'Publisher', 'Location', 'Book-ID'],\n",
       "      dtype='object')"
      ]
     },
     "execution_count": 102,
     "metadata": {},
     "output_type": "execute_result"
    }
   ],
   "source": [
    "df.columns"
   ]
  },
  {
   "cell_type": "code",
   "execution_count": 104,
   "id": "cd397292",
   "metadata": {
    "ExecuteTime": {
     "end_time": "2023-10-28T19:05:20.585310Z",
     "start_time": "2023-10-28T19:05:18.794090Z"
    }
   },
   "outputs": [],
   "source": [
    "# User-Item Matrix Creation\n",
    "# Now, we create user-item matrix using scipy csr matrix\n",
    "from scipy.sparse import csr_matrix\n",
    "\n",
    "def create_matrix(df):\n",
    "    \n",
    "    N = len(df['User-ID'].unique())\n",
    "    M = len(df['Book-ID'].unique())\n",
    "\n",
    "    # Map Ids to indices\n",
    "    user_mapper = dict(zip(np.unique(df[\"User-ID\"]), list(range(N))))\n",
    "    book_mapper = dict(zip(np.unique(df[\"Book-ID\"]), list(range(M))))\n",
    "\n",
    "    # Map indices to IDs\n",
    "    user_inv_mapper = dict(zip(list(range(N)), np.unique(df[\"User-ID\"])))\n",
    "    book_inv_mapper = dict(zip(list(range(M)), np.unique(df[\"Book-ID\"])))\n",
    "\n",
    "    user_index = [user_mapper[i] for i in df['User-ID']]\n",
    "    book_index = [book_mapper[i] for i in df['Book-ID']]\n",
    "\n",
    "    X = csr_matrix((df[\"Book-Rating\"], (book_index, user_index)), shape=(M, N))\n",
    "\n",
    "    return X, user_mapper, book_mapper, user_inv_mapper, book_inv_mapper\n",
    "\n",
    "X, user_mapper, book_mapper, user_inv_mapper, book_inv_mapper = create_matrix(df)\n"
   ]
  },
  {
   "cell_type": "code",
   "execution_count": 105,
   "id": "9efd1a5d",
   "metadata": {
    "ExecuteTime": {
     "end_time": "2023-10-28T19:05:28.579888Z",
     "start_time": "2023-10-28T19:05:27.771704Z"
    },
    "scrolled": false
   },
   "outputs": [
    {
     "name": "stdout",
     "output_type": "stream",
     "text": [
      "<class 'pandas.core.frame.DataFrame'>\n",
      "Int64Index: 1031136 entries, 0 to 1031135\n",
      "Data columns (total 8 columns):\n",
      " #   Column               Non-Null Count    Dtype \n",
      "---  ------               --------------    ----- \n",
      " 0   User-ID              1031136 non-null  int64 \n",
      " 1   Book-Rating          1031136 non-null  int64 \n",
      " 2   Book-Title           1031136 non-null  object\n",
      " 3   Book-Author          1031135 non-null  object\n",
      " 4   Year-Of-Publication  1031136 non-null  object\n",
      " 5   Publisher            1031134 non-null  object\n",
      " 6   Location             1031136 non-null  object\n",
      " 7   Book-ID              1031136 non-null  int32 \n",
      "dtypes: int32(1), int64(2), object(5)\n",
      "memory usage: 66.9+ MB\n"
     ]
    }
   ],
   "source": [
    "df.info()"
   ]
  },
  {
   "cell_type": "code",
   "execution_count": 106,
   "id": "969f2dd6",
   "metadata": {
    "ExecuteTime": {
     "end_time": "2023-10-28T19:06:50.457769Z",
     "start_time": "2023-10-28T19:06:48.401010Z"
    }
   },
   "outputs": [
    {
     "name": "stdout",
     "output_type": "stream",
     "text": [
      "Since you read Flesh Tones: A Novel\n",
      "Frontier Woman\n",
      "Bullets\n",
      "The Devil's Apocrypha: There Are Two Sides to Every Story\n",
      "Harvest of Murder: A Gardening Mystery (Gardening Mysteries (Hardcover))\n",
      "First Light (A. D. Chronicles, No. 1)\n",
      "Bulletproof Billionaire : New Orleans Confidential (Intrigue)\n",
      "A Murder of Justice\n",
      "Top Hook\n",
      "Winter's End (Alex Rourke, 1)\n",
      "The Devil in Bellminster: An Unlikely Mystery (Unlikely Heroes)\n"
     ]
    }
   ],
   "source": [
    "# Movie Similarity Analysis\n",
    "\"\"\"\n",
    "Find similar books using KNN\n",
    "\"\"\"\n",
    "from sklearn.neighbors import NearestNeighbors\n",
    "def find_similar_books(book_id, X, k, metric='cosine', show_distance=False):\n",
    "\n",
    "    neighbour_ids = []\n",
    "\n",
    "    book_ind = book_mapper[book_id]\n",
    "    book_vec = X[book_ind]\n",
    "    k+=1\n",
    "    kNN = NearestNeighbors(n_neighbors=k, algorithm=\"brute\", metric=metric)\n",
    "    kNN.fit(X)\n",
    "    book_vec = book_vec.reshape(1,-1)\n",
    "    neighbour = kNN.kneighbors(book_vec, return_distance=show_distance)\n",
    "    for i in range(0,k):\n",
    "        n = neighbour.item(i)\n",
    "        neighbour_ids.append(book_inv_mapper[n])\n",
    "    neighbour_ids.pop(0)\n",
    "    return neighbour_ids\n",
    "\n",
    "\n",
    "book_titles = dict(zip(df['Book-ID'], df['Book-Title']))\n",
    "\n",
    "book_id = 67829\n",
    "\n",
    "similar_ids = find_similar_books(book_id, X, k=10)\n",
    "book_title = book_titles[book_id]\n",
    "\n",
    "print(f\"Since you read {book_title}\")\n",
    "for i in similar_ids:\n",
    "    print(book_titles[i])\n"
   ]
  },
  {
   "cell_type": "code",
   "execution_count": 107,
   "id": "ad754245",
   "metadata": {
    "ExecuteTime": {
     "end_time": "2023-10-28T19:22:20.398128Z",
     "start_time": "2023-10-28T19:22:19.977838Z"
    }
   },
   "outputs": [],
   "source": [
    "# Book Recommendation with respect to Users Preference\n",
    "# Create a function to recomment the movies based on the user preferences.\n",
    "def recommend_Books_for_user(user_id, X, user_mapper, book_mapper, book_inv_mapper, k=10):\n",
    "    df1 = df[df['User-ID'] == user_id]\n",
    "\n",
    "    if df1.empty:\n",
    "        print(f\"User with ID {user_id} does not exist.\")\n",
    "        return\n",
    "\n",
    "    book_id = df1[df1['Book-Rating'] == max(df1['Book-Rating'])]['Book-ID'].iloc[0]\n",
    "\n",
    "    book_titles = dict(zip(df['Book-ID'], df['Book-Title']))\n",
    "\n",
    "    similar_ids = find_similar_books(book_id, X, k)\n",
    "    book_title = book_titles.get(book_id, \"Book not found\")\n",
    "\n",
    "    if book_title == \"Book not found\":\n",
    "        print(f\"Book with ID {book_id} not found.\")\n",
    "        return\n",
    "\n",
    "    print(f\"Since you Read {book_title}, you might also like:\")\n",
    "    for i in similar_ids:\n",
    "        print(book_titles.get(i, \"Book not found\"))\n"
   ]
  },
  {
   "cell_type": "markdown",
   "id": "eb838b28",
   "metadata": {},
   "source": [
    "# Recommend the Book to user .."
   ]
  },
  {
   "cell_type": "code",
   "execution_count": 108,
   "id": "fa750ef5",
   "metadata": {
    "ExecuteTime": {
     "end_time": "2023-10-28T19:22:45.826095Z",
     "start_time": "2023-10-28T19:22:45.263984Z"
    }
   },
   "outputs": [
    {
     "name": "stdout",
     "output_type": "stream",
     "text": [
      "Since you Read Godel, Escher, Bach: An Eternal Golden Braid, you might also like:\n",
      "Making Peace\n",
      "Dmca: The Digital Millenium Copyright Act\n",
      "Winners, Losers &amp; Microsoft: Competition and Antitrust in High Technology\n",
      "The Ugly American\n",
      "Swamp Monster in Third Grade (Little Apple)\n",
      "Struggle for Intimacy\n",
      "The Eros of Everyday Life: Essays on Ecology, Gender and Society\n",
      "Personal Fouls\n",
      "Forgiveness and Other Acts of Love\n",
      "Clicking With Your Dog: Step-By-Step in Pictures\n"
     ]
    }
   ],
   "source": [
    "user_id = 2313 # Replace with the desired user ID\n",
    "recommend_Books_for_user(user_id, X, user_mapper, book_mapper, book_inv_mapper, k=10)"
   ]
  },
  {
   "cell_type": "code",
   "execution_count": null,
   "id": "bb9c16cd",
   "metadata": {},
   "outputs": [],
   "source": []
  }
 ],
 "metadata": {
  "kernelspec": {
   "display_name": "Python 3 (ipykernel)",
   "language": "python",
   "name": "python3"
  },
  "language_info": {
   "codemirror_mode": {
    "name": "ipython",
    "version": 3
   },
   "file_extension": ".py",
   "mimetype": "text/x-python",
   "name": "python",
   "nbconvert_exporter": "python",
   "pygments_lexer": "ipython3",
   "version": "3.9.12"
  },
  "toc": {
   "base_numbering": 1,
   "nav_menu": {},
   "number_sections": true,
   "sideBar": true,
   "skip_h1_title": false,
   "title_cell": "Table of Contents",
   "title_sidebar": "Contents",
   "toc_cell": false,
   "toc_position": {},
   "toc_section_display": true,
   "toc_window_display": false
  },
  "varInspector": {
   "cols": {
    "lenName": 16,
    "lenType": 16,
    "lenVar": 40
   },
   "kernels_config": {
    "python": {
     "delete_cmd_postfix": "",
     "delete_cmd_prefix": "del ",
     "library": "var_list.py",
     "varRefreshCmd": "print(var_dic_list())"
    },
    "r": {
     "delete_cmd_postfix": ") ",
     "delete_cmd_prefix": "rm(",
     "library": "var_list.r",
     "varRefreshCmd": "cat(var_dic_list()) "
    }
   },
   "types_to_exclude": [
    "module",
    "function",
    "builtin_function_or_method",
    "instance",
    "_Feature"
   ],
   "window_display": false
  }
 },
 "nbformat": 4,
 "nbformat_minor": 5
}
